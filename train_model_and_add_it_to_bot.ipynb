{
 "cells": [
  {
   "cell_type": "code",
   "execution_count": 4,
   "id": "dec1bcc4",
   "metadata": {},
   "outputs": [
    {
     "data": {
      "text/plain": [
       "device(type='cuda')"
      ]
     },
     "execution_count": 4,
     "metadata": {},
     "output_type": "execute_result"
    }
   ],
   "source": [
    "import re\n",
    "import math\n",
    "import copy\n",
    "import torch\n",
    "import torch.nn as nn\n",
    "import torch.nn.functional as F\n",
    "from torch.utils.data import DataLoader\n",
    "import numpy as np\n",
    "import pandas as pd\n",
    "from tqdm import tqdm\n",
    "from torchtext import datasets, data\n",
    "from sklearn.model_selection import train_test_split\n",
    "from tokenizers import Tokenizer\n",
    "from tokenizers.models import BPE\n",
    "from tokenizers.pre_tokenizers import Whitespace\n",
    "from tokenizers.trainers import BpeTrainer\n",
    "\n",
    "BATCH_SIZE = 128\n",
    "DEVICE = torch.device(\"cuda\" if torch.cuda.is_available() else \"cpu\")\n",
    "DEVICE"
   ]
  },
  {
   "cell_type": "code",
   "execution_count": 7,
   "id": "96720375",
   "metadata": {},
   "outputs": [],
   "source": [
    "from string import punctuation\n",
    "\n",
    "def preprocessing(text):\n",
    "    tokens = text.lower().split()\n",
    "    tokens = [token.strip(punctuation) for token in tokens if token not in punctuation and token.isalpha()]\n",
    "    return ' '.join(tokens)"
   ]
  },
  {
   "cell_type": "code",
   "execution_count": 8,
   "id": "a63fd5f8",
   "metadata": {},
   "outputs": [
    {
     "name": "stderr",
     "output_type": "stream",
     "text": [
      "100%|██████████| 5880497/5880497 [00:35<00:00, 166816.18it/s]\n"
     ]
    }
   ],
   "source": [
    "# dq = open('train.txt').readlines()\n",
    "\n",
    "# with open('questions_wo_punct.txt', mode='w') as q:\n",
    "#     with open('answers_wo_punct.txt', mode='w') as answ:\n",
    "#         for line in tqdm(dq):\n",
    "#             line = line.strip('\\n')\n",
    "#             question, answer = line.split('\\t')\n",
    "#             question = preprocessing(question)\n",
    "#             answer = preprocessing(answer)\n",
    "#             q.write(question + '\\n')\n",
    "#             answ.write(answer + '\\n')\n",
    "\n",
    "\n",
    "# with open('questions.txt', mode='w') as q:\n",
    "#     with open('answers.txt', mode='w') as answ:\n",
    "#         for line in tqdm(dq):\n",
    "#             line = line.strip('\\n')\n",
    "#             question, answer = line.split('\\t')\n",
    "#             q.write(question + '\\n')\n",
    "#             answ.write(answer + '\\n')"
   ]
  },
  {
   "cell_type": "code",
   "execution_count": 9,
   "id": "060bd068",
   "metadata": {},
   "outputs": [
    {
     "name": "stdout",
     "output_type": "stream",
     "text": [
      "\n",
      "\n",
      "\n"
     ]
    }
   ],
   "source": [
    "# tokenizer = Tokenizer(BPE())\n",
    "# tokenizer.pre_tokenizer = Whitespace()\n",
    "# trainer = BpeTrainer(special_tokens=[\"[UNK]\", \"[EOS]\", \"[BOS]\", \"[PAD]\"])\n",
    "# tokenizer.train(files=[\"questions_wo_punct.txt\", \"answers_wo_punct.txt\"], trainer=trainer)"
   ]
  },
  {
   "cell_type": "code",
   "execution_count": 10,
   "id": "18a23419",
   "metadata": {},
   "outputs": [],
   "source": [
    "# tokenizer.save('./tokenisers/tokenizer_wo_punct')"
   ]
  },
  {
   "cell_type": "code",
   "execution_count": 57,
   "id": "96245f64",
   "metadata": {},
   "outputs": [],
   "source": [
    "tokenizer = Tokenizer.from_file('tokenisers/tokenizer')"
   ]
  },
  {
   "cell_type": "code",
   "execution_count": 58,
   "id": "ae3c98c0",
   "metadata": {},
   "outputs": [],
   "source": [
    "TEXT = data.Field(\n",
    "    fix_length=50,\n",
    "    init_token='[BOS]',\n",
    "    eos_token='[EOS]',\n",
    "    pad_token=\"[PAD]\",\n",
    "    unk_token=\"[UNK]\",\n",
    "    lower=True,\n",
    "    tokenize=lambda x: tokenizer.encode(x).tokens,\n",
    "    batch_first=True,\n",
    ")\n",
    "\n",
    "fields = (('src', TEXT), ('tgt', TEXT))"
   ]
  },
  {
   "cell_type": "code",
   "execution_count": 59,
   "id": "d3cfe2c6",
   "metadata": {
    "scrolled": true
   },
   "outputs": [
    {
     "name": "stderr",
     "output_type": "stream",
     "text": [
      "100%|██████████| 5880497/5880497 [06:59<00:00, 14022.85it/s]\n"
     ]
    }
   ],
   "source": [
    "with open('questions.txt') as f:\n",
    "    question_snt = list(map(str.strip, f.readlines()))\n",
    "    \n",
    "with open('answers.txt') as f:\n",
    "    answer_snt = list(map(str.strip, f.readlines()))\n",
    "    \n",
    "examples = [data.Example.fromlist(x, fields) for x in tqdm(zip(question_snt, answer_snt),total=len(answer_snt))]\n",
    "test = data.Dataset(examples[-10000:], fields)\n",
    "train, valid = data.Dataset(examples[:-10000], fields).split(0.9)"
   ]
  },
  {
   "cell_type": "code",
   "execution_count": 60,
   "id": "5e8a6483",
   "metadata": {},
   "outputs": [
    {
     "data": {
      "text/plain": [
       "True"
      ]
     },
     "execution_count": 60,
     "metadata": {},
     "output_type": "execute_result"
    }
   ],
   "source": [
    "len(question_snt)==len(answer_snt)"
   ]
  },
  {
   "cell_type": "code",
   "execution_count": 61,
   "id": "d8de36af",
   "metadata": {},
   "outputs": [],
   "source": [
    "TEXT.build_vocab(train)\n",
    "TEXT.vocab.stoi=tokenizer.get_vocab()\n",
    "TEXT.vocab.itos = {value: key for key, value in tokenizer.get_vocab().items()}"
   ]
  },
  {
   "cell_type": "code",
   "execution_count": 15,
   "id": "d896f7e9",
   "metadata": {},
   "outputs": [],
   "source": [
    "def subsequent_mask(size):\n",
    "    \"Mask out subsequent positions.\"\n",
    "    attn_shape = (1, size, size)\n",
    "    subsequent_mask = np.triu(np.ones(attn_shape), k=1).astype('uint8')\n",
    "    return torch.from_numpy(subsequent_mask) == 0"
   ]
  },
  {
   "cell_type": "code",
   "execution_count": 16,
   "id": "59b501c5",
   "metadata": {},
   "outputs": [],
   "source": [
    "class Batch:\n",
    "    \"Object for holding a batch of data with mask during training.\"\n",
    "    def __init__(self, src, trg=None, pad=tokenizer.token_to_id('[PAD]')):\n",
    "        self.src = src\n",
    "        self.src_mask = (src != pad).unsqueeze(-2)\n",
    "        if trg is not None:\n",
    "            self.trg = trg[:, :-1]\n",
    "            self.trg_y = trg[:, 1:]\n",
    "            self.trg_mask = self.make_std_mask(self.trg, pad)\n",
    "            self.ntokens = (self.trg_y != pad).data.sum()\n",
    "    \n",
    "    @staticmethod\n",
    "    def make_std_mask(tgt, pad):\n",
    "        \"Create a mask to hide padding and future words.\"\n",
    "        tgt_mask = (tgt != pad).unsqueeze(-2)\n",
    "        tgt_mask = tgt_mask & subsequent_mask(tgt.size(-1)).type_as(tgt_mask.data).detach()\n",
    "        return tgt_mask"
   ]
  },
  {
   "cell_type": "code",
   "execution_count": 17,
   "id": "34a2e042",
   "metadata": {},
   "outputs": [],
   "source": [
    "def make_model(src_vocab, tgt_vocab, N=6, \n",
    "               d_model=512, d_ff=2048, h=8, dropout=0.1):\n",
    "    \"Helper: Construct a model from hyperparameters.\"\n",
    "    c = copy.deepcopy\n",
    "    attn = MultiHeadedAttention(h, d_model)\n",
    "    ff = PositionwiseFeedForward(d_model, d_ff, dropout)\n",
    "    position = PositionalEncoding(d_model, dropout)\n",
    "    model = EncoderDecoder(\n",
    "        Encoder(EncoderLayer(d_model, c(attn), c(ff), dropout), N),\n",
    "        Decoder(DecoderLayer(d_model, c(attn), c(attn), \n",
    "                             c(ff), dropout), N),\n",
    "        nn.Sequential(Embeddings(d_model, src_vocab), c(position)),\n",
    "        nn.Sequential(Embeddings(d_model, tgt_vocab), c(position)),\n",
    "        nn.Linear(d_model, tgt_vocab))\n",
    "    \n",
    "    # This was important from their code. \n",
    "    # Initialize parameters with Glorot / fan_avg.\n",
    "    for p in model.parameters():\n",
    "        if p.dim() > 1:\n",
    "            nn.init.xavier_uniform_(p)\n",
    "    return model"
   ]
  },
  {
   "cell_type": "code",
   "execution_count": 18,
   "id": "b1e477d3",
   "metadata": {},
   "outputs": [],
   "source": [
    "class EncoderDecoder(nn.Module):\n",
    "    \"\"\"\n",
    "    A standard Encoder-Decoder architecture. Base for this and many \n",
    "    other models.\n",
    "    \"\"\"\n",
    "    def __init__(self, encoder, decoder, src_embed, tgt_embed, generator):\n",
    "        super(EncoderDecoder, self).__init__()\n",
    "        self.encoder = encoder\n",
    "        self.decoder = decoder\n",
    "        self.src_embed = src_embed\n",
    "        self.tgt_embed = tgt_embed\n",
    "        self.generator = generator # Linear layer\n",
    "        \n",
    "    def forward(self, batch):\n",
    "        src, trg = batch.src, batch.trg\n",
    "        src_mask, trg_mask = batch.src_mask, batch.trg_mask\n",
    "        \"Take in and process masked src and target sequences.\"\n",
    "        #return self.decode(self.encode(src, src_mask), src_mask,\n",
    "        #                    tgt, tgt_mask)\n",
    "        return self.decode(trg, trg_mask, self.encode(src, src_mask), src_mask)\n",
    "    \n",
    "    def encode(self, src, src_mask):\n",
    "        return self.encoder(self.src_embed(src), src_mask)\n",
    "    \n",
    "    def decode(self, tgt, tgt_mask, memory, src_mask):\n",
    "    #def decode(self, memory, src_mask, tgt, tgt_mask):\n",
    "        #return self.decoder(self.tgt_embed(tgt), memory, src_mask, tgt_mask)\n",
    "        x = self.decoder(self.tgt_embed(tgt), memory, src_mask, tgt_mask)\n",
    "        x = self.generator(x)\n",
    "        return x\n",
    "\n",
    "def clones(module, N):\n",
    "    \"Produce N identical layers.\"\n",
    "    return nn.ModuleList([copy.deepcopy(module) for _ in range(N)])"
   ]
  },
  {
   "cell_type": "code",
   "execution_count": 19,
   "id": "88392d56",
   "metadata": {},
   "outputs": [],
   "source": [
    "class Encoder(nn.Module):\n",
    "    \"Core encoder is a stack of N layers\"\n",
    "    def __init__(self, layer, N):\n",
    "        super(Encoder, self).__init__()\n",
    "        self.layers = clones(layer, N)\n",
    "        self.norm = LayerNorm(layer.size)\n",
    "        \n",
    "    def forward(self, x, mask):\n",
    "        \"Pass the input (and mask) through each layer in turn.\"\n",
    "        for layer in self.layers:\n",
    "            x = layer(x, mask)\n",
    "        return self.norm(x)"
   ]
  },
  {
   "cell_type": "code",
   "execution_count": 20,
   "id": "dbc9ffb9",
   "metadata": {},
   "outputs": [],
   "source": [
    "class LayerNorm(nn.Module):\n",
    "    \"Construct a layernorm module (See citation for details).\"\n",
    "    def __init__(self, features, eps=1e-6):\n",
    "        super(LayerNorm, self).__init__()\n",
    "        self.a_2 = nn.Parameter(torch.ones(features))\n",
    "        self.b_2 = nn.Parameter(torch.zeros(features))\n",
    "        self.eps = eps\n",
    "\n",
    "    def forward(self, x):\n",
    "        mean = x.mean(-1, keepdim=True)\n",
    "        std = x.std(-1, keepdim=True)\n",
    "        return self.a_2 * (x - mean) / (std + self.eps) + self.b_2\n",
    "\n",
    "class SublayerConnection(nn.Module):\n",
    "    \"\"\"\n",
    "    A residual connection followed by a layer norm.\n",
    "    Note for code simplicity the norm is first as opposed to last.\n",
    "    \"\"\"\n",
    "    def __init__(self, size, dropout):\n",
    "        super(SublayerConnection, self).__init__()\n",
    "        self.norm = LayerNorm(size)\n",
    "        self.dropout = nn.Dropout(dropout)\n",
    "\n",
    "    def forward(self, x, sublayer):\n",
    "        \"Apply residual connection to any sublayer with the same size.\"\n",
    "        return x + self.dropout(sublayer(self.norm(x)))\n",
    "\n",
    "class EncoderLayer(nn.Module):\n",
    "    \"Encoder is made up of self-attn and feed forward (defined below)\"\n",
    "    def __init__(self, size, self_attn, feed_forward, dropout):\n",
    "        super(EncoderLayer, self).__init__()\n",
    "        self.self_attn = self_attn\n",
    "        self.feed_forward = feed_forward\n",
    "        self.sublayer = clones(SublayerConnection(size, dropout), 2)\n",
    "        self.size = size\n",
    "\n",
    "    def forward(self, x, mask):\n",
    "        \"Follow Figure 1 (left) for connections.\"\n",
    "        x = self.sublayer[0](x, lambda x: self.self_attn(x, x, x, mask))\n",
    "        return self.sublayer[1](x, self.feed_forward)"
   ]
  },
  {
   "cell_type": "code",
   "execution_count": 21,
   "id": "ec9454af",
   "metadata": {},
   "outputs": [],
   "source": [
    "class Decoder(nn.Module):\n",
    "    \"Generic N layer decoder with masking.\"\n",
    "    def __init__(self, layer, N):\n",
    "        super(Decoder, self).__init__()\n",
    "        self.layers = clones(layer, N)\n",
    "        self.norm = LayerNorm(layer.size)\n",
    "        \n",
    "    def forward(self, x, memory, src_mask, tgt_mask):\n",
    "        for layer in self.layers:\n",
    "            x = layer(x, memory, src_mask, tgt_mask)\n",
    "        return self.norm(x)\n",
    "\n",
    "class DecoderLayer(nn.Module):\n",
    "    \"Decoder is made of self-attn, src-attn, and feed forward (defined below)\"\n",
    "    def __init__(self, size, self_attn, src_attn, feed_forward, dropout):\n",
    "        super(DecoderLayer, self).__init__()\n",
    "        self.size = size\n",
    "        self.self_attn = self_attn\n",
    "        self.src_attn = src_attn\n",
    "        self.feed_forward = feed_forward\n",
    "        self.sublayer = clones(SublayerConnection(size, dropout), 3)\n",
    " \n",
    "    def forward(self, x, memory, src_mask, tgt_mask):\n",
    "        \"Follow Figure 1 (right) for connections.\"\n",
    "        m = memory\n",
    "        x = self.sublayer[0](x, lambda x: self.self_attn(x, x, x, tgt_mask))\n",
    "        x = self.sublayer[1](x, lambda x: self.src_attn(x, m, m, src_mask))\n",
    "        return self.sublayer[2](x, self.feed_forward)"
   ]
  },
  {
   "cell_type": "code",
   "execution_count": 22,
   "id": "553a1410",
   "metadata": {},
   "outputs": [],
   "source": [
    "def attention(query, key, value, mask=None, dropout=None):\n",
    "    \"Compute 'Scaled Dot Product Attention'\"\n",
    "    d_k = query.size(-1)\n",
    "    scores = torch.matmul(query, key.transpose(-2, -1)) \\\n",
    "             / math.sqrt(d_k)\n",
    "    if mask is not None:\n",
    "        scores = scores.masked_fill(mask == 0, -1e9)\n",
    "    p_attn = F.softmax(scores, dim = -1)\n",
    "    if dropout is not None:\n",
    "        p_attn = dropout(p_attn)\n",
    "    return torch.matmul(p_attn, value), p_attn"
   ]
  },
  {
   "cell_type": "code",
   "execution_count": 23,
   "id": "c67b854a",
   "metadata": {},
   "outputs": [],
   "source": [
    "class MultiHeadedAttention(nn.Module):\n",
    "    def __init__(self, h, d_model, dropout=0.1):\n",
    "        \"Take in model size and number of heads.\"\n",
    "        super(MultiHeadedAttention, self).__init__()\n",
    "        assert d_model % h == 0\n",
    "        # We assume d_v always equals d_k\n",
    "        self.d_k = d_model // h\n",
    "        self.h = h\n",
    "        self.linears = clones(nn.Linear(d_model, d_model), 4)\n",
    "        self.attn = None\n",
    "        self.dropout = nn.Dropout(p=dropout)\n",
    "        \n",
    "    def forward(self, query, key, value, mask=None):\n",
    "        \"Implements Figure 2\"\n",
    "        if mask is not None:\n",
    "            # Same mask applied to all h heads.\n",
    "            mask = mask.unsqueeze(1)\n",
    "        nbatches = query.size(0)\n",
    "        \n",
    "        # 1) Do all the linear projections in batch from d_model => h x d_k \n",
    "        query, key, value = \\\n",
    "            [l(x).view(nbatches, -1, self.h, self.d_k).transpose(1, 2)\n",
    "             for l, x in zip(self.linears, (query, key, value))]\n",
    "        \n",
    "        # 2) Apply attention on all the projected vectors in batch. \n",
    "        x, self.attn = attention(query, key, value, mask=mask, \n",
    "                                 dropout=self.dropout)\n",
    "        \n",
    "        # 3) \"Concat\" using a view and apply a final linear. \n",
    "        x = x.transpose(1, 2).contiguous() \\\n",
    "             .view(nbatches, -1, self.h * self.d_k)\n",
    "        return self.linears[-1](x)"
   ]
  },
  {
   "cell_type": "code",
   "execution_count": 24,
   "id": "d5e79096",
   "metadata": {},
   "outputs": [],
   "source": [
    "class PositionwiseFeedForward(nn.Module):\n",
    "    \"Implements FFN equation.\"\n",
    "    def __init__(self, d_model, d_ff, dropout=0.1):\n",
    "        super(PositionwiseFeedForward, self).__init__()\n",
    "        self.w_1 = nn.Linear(d_model, d_ff)\n",
    "        self.w_2 = nn.Linear(d_ff, d_model)\n",
    "        self.dropout = nn.Dropout(dropout)\n",
    "\n",
    "    def forward(self, x):\n",
    "        return self.w_2(self.dropout(F.relu(self.w_1(x))))"
   ]
  },
  {
   "cell_type": "code",
   "execution_count": 25,
   "id": "fc8b73d8",
   "metadata": {},
   "outputs": [],
   "source": [
    "class Embeddings(nn.Module):\n",
    "    def __init__(self, d_model, vocab):\n",
    "        super(Embeddings, self).__init__()\n",
    "        self.lut = nn.Embedding(vocab, d_model)\n",
    "        self.d_model = d_model\n",
    "\n",
    "    def forward(self, x):\n",
    "        return self.lut(x) * np.sqrt(self.d_model)"
   ]
  },
  {
   "cell_type": "code",
   "execution_count": 26,
   "id": "813957d9",
   "metadata": {},
   "outputs": [],
   "source": [
    "class PositionalEncoding(nn.Module):\n",
    "    \"Implement the PE function.\"\n",
    "    def __init__(self, d_model, dropout, max_len=5000):\n",
    "        super(PositionalEncoding, self).__init__()\n",
    "        self.dropout = nn.Dropout(p=dropout)\n",
    "        \n",
    "        # Compute the positional encodings once in log space.\n",
    "        pe = torch.zeros(max_len, d_model)\n",
    "        position = torch.arange(0, max_len).unsqueeze(1)\n",
    "        div_term = torch.exp(torch.arange(0, d_model, 2) *\n",
    "                             -(math.log(10000.0) / d_model))\n",
    "        pe[:, 0::2] = torch.sin(position * div_term)\n",
    "        pe[:, 1::2] = torch.cos(position * div_term)\n",
    "        pe = pe.unsqueeze(0)\n",
    "        self.register_buffer('pe', pe)\n",
    "        \n",
    "    def forward(self, x):\n",
    "        x = x + self.pe[:, :x.size(1)].clone().detach()\n",
    "        return self.dropout(x)"
   ]
  },
  {
   "cell_type": "code",
   "execution_count": 27,
   "id": "d8e57e16",
   "metadata": {},
   "outputs": [],
   "source": [
    "class BucketIteratorWrapper(DataLoader):\n",
    "    __initialized = False\n",
    "\n",
    "    def __init__(self, iterator: data.Iterator):\n",
    "#         super(BucketIteratorWrapper,self).__init__()\n",
    "        self.batch_size = iterator.batch_size\n",
    "        self.num_workers = 8\n",
    "        self.collate_fn = None\n",
    "        self.pin_memory = False\n",
    "        self.drop_last = False\n",
    "        self.timeout = 0\n",
    "        self.worker_init_fn = None\n",
    "        self.sampler = iterator\n",
    "        self.batch_sampler = iterator\n",
    "        self.__initialized = True\n",
    "\n",
    "    def __iter__(self):\n",
    "        return map(\n",
    "            lambda batch: Batch(batch.src, batch.tgt, pad=TEXT.vocab.stoi['[PAD]']),\n",
    "            self.batch_sampler.__iter__()\n",
    "        )\n",
    "\n",
    "    def __len__(self):\n",
    "        return len(self.batch_sampler)\n",
    "    \n",
    "class MyCriterion(nn.Module):\n",
    "    def __init__(self, pad_idx):\n",
    "        super(MyCriterion, self).__init__()\n",
    "        self.pad_idx = pad_idx\n",
    "        self.criterion = nn.CrossEntropyLoss(reduction='sum', ignore_index=pad_idx)\n",
    "        \n",
    "    def forward(self, x, target):\n",
    "        x = x.contiguous().permute(0,2,1)\n",
    "        ntokens = (target != self.pad_idx).data.sum()\n",
    "        \n",
    "        return self.criterion(x, target) / ntokens"
   ]
  },
  {
   "cell_type": "code",
   "execution_count": 28,
   "id": "85f920a7",
   "metadata": {},
   "outputs": [],
   "source": [
    "class NoamOpt:\n",
    "    \"Optim wrapper that implements rate.\"\n",
    "    def __init__(self, model_size, factor, warmup, optimizer):\n",
    "        self.optimizer = optimizer\n",
    "        self._step = 0\n",
    "        self.warmup = warmup\n",
    "        self.factor = factor\n",
    "        self.model_size = model_size\n",
    "        self._rate = 0\n",
    "        \n",
    "    def step(self):\n",
    "        \"Update parameters and rate\"\n",
    "        self._step += 1\n",
    "        rate = self.rate()\n",
    "        for p in self.optimizer.param_groups:\n",
    "            p['lr'] = rate\n",
    "        self._rate = rate\n",
    "        self.optimizer.step()\n",
    "        \n",
    "    def rate(self, step = None):\n",
    "        \"Implement `lrate` above\"\n",
    "        if step is None:\n",
    "            step = self._step\n",
    "        return self.factor * \\\n",
    "            (self.model_size ** (-0.5) *\n",
    "            min(step ** (-0.5), step * self.warmup ** (-1.5)))\n",
    "        \n",
    "def get_std_opt(model):\n",
    "    return NoamOpt(model.src_embed[0].d_model, 2, 4000,\n",
    "            torch.optim.Adam(model.parameters(), lr=0, betas=(0.9, 0.98), eps=1e-9))"
   ]
  },
  {
   "cell_type": "code",
   "execution_count": 62,
   "id": "62783b61",
   "metadata": {},
   "outputs": [],
   "source": [
    "torch.cuda.empty_cache()\n",
    "\n",
    "batch_size = BATCH_SIZE\n",
    "num_epochs = 10\n",
    "\n",
    "train_iter, valid_iter, test_iter = data.BucketIterator.splits((train, valid, test), \n",
    "                                              batch_sizes=(batch_size, batch_size, batch_size), \n",
    "                                  sort_key=lambda x: len(x.src),\n",
    "                                  shuffle=True,\n",
    "                                  device=DEVICE,\n",
    "                                  sort_within_batch=False)\n",
    "                                  \n",
    "train_iter = BucketIteratorWrapper(train_iter)\n",
    "valid_iter = BucketIteratorWrapper(valid_iter)\n",
    "test_iter = BucketIteratorWrapper(test_iter)\n",
    "\n",
    "model = make_model(len(TEXT.vocab), len(TEXT.vocab), N=1)\n",
    "model = model.to(DEVICE)\n",
    "criterion = MyCriterion(pad_idx=TEXT.vocab.stoi['[PAD]'])\n",
    "criterion.cuda()\n",
    "\n",
    "optimizer = NoamOpt(model.src_embed[0].d_model, 1, 4000, torch.optim.Adam(model.parameters(),  lr=0, betas=(0.9, 0.98), eps=1e-9))\n",
    "# share weights\n",
    "#https://github.com/pytorch/examples/blob/master/word_language_model/model.py#L28\n",
    "model.tgt_embed[0].lut.weight = model.generator.weight"
   ]
  },
  {
   "cell_type": "code",
   "execution_count": 30,
   "id": "f72289cb",
   "metadata": {},
   "outputs": [],
   "source": [
    "def train_epoch(data_iter, model, criterion):\n",
    "    total_loss = 0\n",
    "    data_iter = tqdm(data_iter, total=len(data_iter))\n",
    "    counter = 0\n",
    "    for batch in data_iter:\n",
    "        out = model.forward(batch)\n",
    "        loss = criterion(out, batch.trg_y)\n",
    "        loss.backward()\n",
    "        torch.nn.utils.clip_grad_norm_(model.parameters(), 0.5)\n",
    "\n",
    "        optimizer.step()\n",
    "        #optimizer.zero_grad()\n",
    "        \n",
    "        total_loss += loss\n",
    "        data_iter.set_postfix(loss = loss.item())\n",
    "        counter +=1\n",
    "        \n",
    "    total_loss /= counter\n",
    "    return total_loss\n",
    "\n",
    "def valid_epoch(data_iter, model, criterion):\n",
    "    total_loss = 0\n",
    "    data_iter = tqdm(data_iter, total=len(data_iter))\n",
    "    counter = 0\n",
    "    for batch in data_iter:\n",
    "        \n",
    "        out = model.forward(batch)\n",
    "        loss = criterion(out, batch.trg_y).item()\n",
    "        \n",
    "        total_loss += loss\n",
    "        data_iter.set_postfix(loss = loss)\n",
    "        counter +=1\n",
    "        \n",
    "    total_loss /= counter\n",
    "    return total_loss\n"
   ]
  },
  {
   "cell_type": "code",
   "execution_count": 31,
   "id": "185936d2",
   "metadata": {
    "scrolled": true
   },
   "outputs": [
    {
     "name": "stderr",
     "output_type": "stream",
     "text": [
      "100%|██████████| 41277/41277 [1:37:34<00:00,  7.05it/s, loss=5.57]\n",
      "  0%|          | 0/4587 [00:00<?, ?it/s]"
     ]
    },
    {
     "name": "stdout",
     "output_type": "stream",
     "text": [
      "train 5.853016376495361\n"
     ]
    },
    {
     "name": "stderr",
     "output_type": "stream",
     "text": [
      "100%|██████████| 4587/4587 [04:19<00:00, 17.68it/s, loss=5.99]\n",
      "  0%|          | 0/41277 [00:00<?, ?it/s]"
     ]
    },
    {
     "name": "stdout",
     "output_type": "stream",
     "text": [
      "valid 5.562058136929399\n"
     ]
    },
    {
     "name": "stderr",
     "output_type": "stream",
     "text": [
      "100%|██████████| 41277/41277 [1:38:00<00:00,  7.02it/s, loss=5.42]\n",
      "  0%|          | 0/4587 [00:00<?, ?it/s]"
     ]
    },
    {
     "name": "stdout",
     "output_type": "stream",
     "text": [
      "train 5.625030994415283\n"
     ]
    },
    {
     "name": "stderr",
     "output_type": "stream",
     "text": [
      "100%|██████████| 4587/4587 [04:19<00:00, 17.69it/s, loss=6.01]\n",
      "  0%|          | 0/41277 [00:00<?, ?it/s]"
     ]
    },
    {
     "name": "stdout",
     "output_type": "stream",
     "text": [
      "valid 5.4991960472496135\n"
     ]
    },
    {
     "name": "stderr",
     "output_type": "stream",
     "text": [
      "100%|██████████| 41277/41277 [1:37:40<00:00,  7.04it/s, loss=5.52]\n",
      "  0%|          | 0/4587 [00:00<?, ?it/s]"
     ]
    },
    {
     "name": "stdout",
     "output_type": "stream",
     "text": [
      "train 5.59658145904541\n"
     ]
    },
    {
     "name": "stderr",
     "output_type": "stream",
     "text": [
      "100%|██████████| 4587/4587 [04:18<00:00, 17.73it/s, loss=5.88]\n",
      "  0%|          | 0/41277 [00:00<?, ?it/s]"
     ]
    },
    {
     "name": "stdout",
     "output_type": "stream",
     "text": [
      "valid 5.487580001133315\n"
     ]
    },
    {
     "name": "stderr",
     "output_type": "stream",
     "text": [
      "100%|██████████| 41277/41277 [1:42:28<00:00,  6.71it/s, loss=5.87]  \n",
      "  0%|          | 0/4587 [00:00<?, ?it/s]"
     ]
    },
    {
     "name": "stdout",
     "output_type": "stream",
     "text": [
      "train 5.597482681274414\n"
     ]
    },
    {
     "name": "stderr",
     "output_type": "stream",
     "text": [
      "100%|██████████| 4587/4587 [04:18<00:00, 17.73it/s, loss=5.93]\n",
      "  0%|          | 0/41277 [00:00<?, ?it/s]"
     ]
    },
    {
     "name": "stdout",
     "output_type": "stream",
     "text": [
      "valid 5.477677315025255\n"
     ]
    },
    {
     "name": "stderr",
     "output_type": "stream",
     "text": [
      "100%|██████████| 41277/41277 [1:37:29<00:00,  7.06it/s, loss=5.92]\n",
      "  0%|          | 0/4587 [00:00<?, ?it/s]"
     ]
    },
    {
     "name": "stdout",
     "output_type": "stream",
     "text": [
      "train 5.589946269989014\n"
     ]
    },
    {
     "name": "stderr",
     "output_type": "stream",
     "text": [
      "100%|██████████| 4587/4587 [04:18<00:00, 17.73it/s, loss=5.94]\n",
      "  0%|          | 0/41277 [00:00<?, ?it/s]"
     ]
    },
    {
     "name": "stdout",
     "output_type": "stream",
     "text": [
      "valid 5.465133619173331\n"
     ]
    },
    {
     "name": "stderr",
     "output_type": "stream",
     "text": [
      "100%|██████████| 41277/41277 [1:37:25<00:00,  7.06it/s, loss=5.81]\n",
      "  0%|          | 0/4587 [00:00<?, ?it/s]"
     ]
    },
    {
     "name": "stdout",
     "output_type": "stream",
     "text": [
      "train 5.573143005371094\n"
     ]
    },
    {
     "name": "stderr",
     "output_type": "stream",
     "text": [
      "100%|██████████| 4587/4587 [04:18<00:00, 17.74it/s, loss=5.86]\n",
      "  0%|          | 0/41277 [00:00<?, ?it/s]"
     ]
    },
    {
     "name": "stdout",
     "output_type": "stream",
     "text": [
      "valid 5.457617480588006\n"
     ]
    },
    {
     "name": "stderr",
     "output_type": "stream",
     "text": [
      "100%|██████████| 41277/41277 [1:37:38<00:00,  7.05it/s, loss=5.54]\n",
      "  0%|          | 0/4587 [00:00<?, ?it/s]"
     ]
    },
    {
     "name": "stdout",
     "output_type": "stream",
     "text": [
      "train 5.561221122741699\n"
     ]
    },
    {
     "name": "stderr",
     "output_type": "stream",
     "text": [
      "100%|██████████| 4587/4587 [04:19<00:00, 17.71it/s, loss=5.95]\n",
      "  0%|          | 0/41277 [00:00<?, ?it/s]"
     ]
    },
    {
     "name": "stdout",
     "output_type": "stream",
     "text": [
      "valid 5.451402308765725\n"
     ]
    },
    {
     "name": "stderr",
     "output_type": "stream",
     "text": [
      "100%|██████████| 41277/41277 [1:37:52<00:00,  7.03it/s, loss=5.72]\n",
      "  0%|          | 0/4587 [00:00<?, ?it/s]"
     ]
    },
    {
     "name": "stdout",
     "output_type": "stream",
     "text": [
      "train 5.557616710662842\n"
     ]
    },
    {
     "name": "stderr",
     "output_type": "stream",
     "text": [
      "100%|██████████| 4587/4587 [04:19<00:00, 17.70it/s, loss=5.93]\n",
      "  0%|          | 0/41277 [00:00<?, ?it/s]"
     ]
    },
    {
     "name": "stdout",
     "output_type": "stream",
     "text": [
      "valid 5.451408033930244\n"
     ]
    },
    {
     "name": "stderr",
     "output_type": "stream",
     "text": [
      "100%|██████████| 41277/41277 [1:37:57<00:00,  7.02it/s, loss=5.39]\n",
      "  0%|          | 0/4587 [00:00<?, ?it/s]"
     ]
    },
    {
     "name": "stdout",
     "output_type": "stream",
     "text": [
      "train 5.564126968383789\n"
     ]
    },
    {
     "name": "stderr",
     "output_type": "stream",
     "text": [
      "100%|██████████| 4587/4587 [04:19<00:00, 17.69it/s, loss=5.89]\n",
      "  0%|          | 0/41277 [00:00<?, ?it/s]"
     ]
    },
    {
     "name": "stdout",
     "output_type": "stream",
     "text": [
      "valid 5.4533791669916685\n"
     ]
    },
    {
     "name": "stderr",
     "output_type": "stream",
     "text": [
      "100%|██████████| 41277/41277 [1:37:50<00:00,  7.03it/s, loss=5.79]\n",
      "  0%|          | 0/4587 [00:00<?, ?it/s]"
     ]
    },
    {
     "name": "stdout",
     "output_type": "stream",
     "text": [
      "train 5.571727752685547\n"
     ]
    },
    {
     "name": "stderr",
     "output_type": "stream",
     "text": [
      "100%|██████████| 4587/4587 [04:18<00:00, 17.71it/s, loss=5.91]"
     ]
    },
    {
     "name": "stdout",
     "output_type": "stream",
     "text": [
      "valid 5.458160187492761\n"
     ]
    },
    {
     "name": "stderr",
     "output_type": "stream",
     "text": [
      "\n"
     ]
    }
   ],
   "source": [
    "for epoch in range(num_epochs):\n",
    "    model.train()\n",
    "    loss = train_epoch(train_iter, model, criterion).item()\n",
    "    print('train', loss)\n",
    "    \n",
    "    model.eval()\n",
    "    with torch.no_grad():\n",
    "        loss = valid_epoch(valid_iter, model, criterion)\n",
    "        print('valid', loss)"
   ]
  },
  {
   "cell_type": "markdown",
   "id": "02f231af",
   "metadata": {},
   "source": [
    "# Inference"
   ]
  },
  {
   "cell_type": "code",
   "execution_count": 32,
   "id": "c6c11521",
   "metadata": {},
   "outputs": [],
   "source": [
    "# torch.save(model.state_dict(), \"models/model_alldata_bs128.pt\")"
   ]
  },
  {
   "cell_type": "code",
   "execution_count": 63,
   "id": "3aca92d9",
   "metadata": {},
   "outputs": [
    {
     "data": {
      "text/plain": [
       "<All keys matched successfully>"
      ]
     },
     "execution_count": 63,
     "metadata": {},
     "output_type": "execute_result"
    }
   ],
   "source": [
    "model.load_state_dict(torch.load(open(\"models/model_alldata_bs128.pt\", \"rb\"), map_location=torch.device(\"cpu\")))"
   ]
  },
  {
   "cell_type": "code",
   "execution_count": 64,
   "id": "fd34a133",
   "metadata": {
    "scrolled": true
   },
   "outputs": [
    {
     "name": "stdout",
     "output_type": "stream",
     "text": [
      "Moved model to CPU device for inference purpoces\n"
     ]
    }
   ],
   "source": [
    "model.to(\"cpu\")\n",
    "print(f\"Moved model to CPU device for inference purpoces\")"
   ]
  },
  {
   "cell_type": "code",
   "execution_count": 78,
   "id": "8d350c59",
   "metadata": {},
   "outputs": [],
   "source": [
    "QUESTION = \"ты патриот россии?\"\n",
    "ANSWER = \"как же без этого?)\""
   ]
  },
  {
   "cell_type": "code",
   "execution_count": 66,
   "id": "a7cf8f72",
   "metadata": {},
   "outputs": [],
   "source": [
    "def answer_question(\n",
    "    question, \n",
    "    tokenizer, \n",
    "    model, \n",
    "    sampling, \n",
    "    eos_id=0, \n",
    "    max_answer_len=50, \n",
    "    max_question_len=50, \n",
    "    pad_id=3, \n",
    "    bos_id=1\n",
    "):\n",
    "    \n",
    "    tokens = tokenizer.encode(question).ids\n",
    "    while len(tokens) < max_question_len - 1:\n",
    "        tokens.append(pad_id)\n",
    "    tokens = [bos_id] + tokens\n",
    "    \n",
    "    input_tokens = torch.tensor(tokens).unsqueeze(0)\n",
    "    input_mask = (input_tokens != pad_id)\n",
    "    \n",
    "    answer_len = 0\n",
    "    answer_ids = []\n",
    "    answer_tokens = torch.tensor([bos_id]).unsqueeze(0)\n",
    "    answer_mask = torch.tensor([True]) \n",
    "    \n",
    "    with torch.no_grad():\n",
    "        question_encoded = model.encode(input_tokens, src_mask=input_mask) \n",
    "\n",
    "        \n",
    "        while answer_len < max_answer_len:\n",
    "            pred_decoder = model.decode(\n",
    "                answer_tokens, \n",
    "                answer_mask, \n",
    "                question_encoded,\n",
    "                input_mask\n",
    "            ) # (batch_size, seq_len, vocab_size)\n",
    "#             print(f\"PredDecoder_SHAPE: {pred_decoder.shape}\")\n",
    "            pred_token_id = sampling(pred_decoder) # returns token id\n",
    "            pred_token = tokenizer.id_to_token(pred_token_id)\n",
    "#             print(f\"PredToken: {pred_token}, {pred_token_id}\")\n",
    "            \n",
    "            answer_ids.append(pred_token_id)\n",
    "            answer_tokens = torch.cat((answer_tokens, \n",
    "                                      torch.tensor([pred_token_id]).unsqueeze(0).T.to(\"cpu\")), \n",
    "                                      dim=1)\n",
    "            answer_len += 1\n",
    "#             print(f\"ANSWER_TOKENS (shape {answer_tokens.shape}): {answer_tokens}\")\n",
    "    \n",
    "    answer = tokenizer.decode(answer_ids)\n",
    "    return answer"
   ]
  },
  {
   "cell_type": "code",
   "execution_count": 67,
   "id": "769d8a96",
   "metadata": {},
   "outputs": [
    {
     "name": "stdout",
     "output_type": "stream",
     "text": [
      "ANSWER: я не не в\n"
     ]
    }
   ],
   "source": [
    "# argmax_sampling\n",
    "\n",
    "def argmax(tensor_out):\n",
    "    tokens_probs = torch.softmax(tensor_out, dim=2)\n",
    "    pred_id = torch.argmax(tokens_probs[0, -1, :]).item()\n",
    "    return pred_id\n",
    "\n",
    "answer = answer_question(\n",
    "    question=QUESTION,\n",
    "    tokenizer=tokenizer,\n",
    "    model=model,\n",
    "    sampling=argmax,\n",
    "    pad_id=tokenizer.token_to_id(\"[PAD]\"),\n",
    "    eos_id=tokenizer.token_to_id(\"[EOS]\"),\n",
    "    bos_id=tokenizer.token_to_id(\"[BOS]\"),\n",
    ")\n",
    "print(f\"ANSWER: {answer}\")"
   ]
  },
  {
   "cell_type": "code",
   "execution_count": 79,
   "id": "afd2d85a",
   "metadata": {},
   "outputs": [
    {
     "name": "stdout",
     "output_type": "stream",
     "text": [
      "ANSWER: нет , я не я .\n"
     ]
    }
   ],
   "source": [
    "# sampling with temperature \n",
    "\n",
    "def sampling_with_temperature(tensor_out, temperature=.3, vocab_size=len(TEXT.vocab.stoi)):\n",
    "    tokens_probs = torch.softmax(tensor_out/temperature, dim=2)\n",
    "    pred_id = np.random.choice(vocab_size, 1, p=tokens_probs[0,-1,:].cpu().numpy())\n",
    "    return pred_id[0]\n",
    "\n",
    "answer = answer_question(\n",
    "    question=QUESTION,\n",
    "    tokenizer=tokenizer,\n",
    "    model=model,\n",
    "    sampling=sampling_with_temperature,\n",
    "    pad_id=tokenizer.token_to_id(\"[PAD]\"),\n",
    "    eos_id=tokenizer.token_to_id(\"[EOS]\"),\n",
    "    bos_id=tokenizer.token_to_id(\"[BOS]\"),\n",
    ")\n",
    "print(f\"ANSWER: {answer}\")"
   ]
  },
  {
   "cell_type": "code",
   "execution_count": 69,
   "id": "155f1664",
   "metadata": {},
   "outputs": [
    {
     "name": "stdout",
     "output_type": "stream",
     "text": [
      "ANSWER: я не не в россии нет . но не в . а в это я ! нет а я не я и не - я\n"
     ]
    }
   ],
   "source": [
    "# top k sampling\n",
    "\n",
    "def top_k_sampling(logits, k=15):\n",
    "\n",
    "    sorted_idx = torch.argsort(logits, dim=2, descending=True)[0,-1,:][:k]\n",
    "    sorted_logits = torch.sort(logits, dim=2, descending=True).values[0,-1,:][:k]\n",
    "    relative_probs = torch.softmax(sorted_logits, dim=0)\n",
    "\n",
    "    pred_id = np.random.choice(sorted_idx.cpu().numpy(), 1, p=relative_probs.cpu().numpy())\n",
    "    return pred_id[0]\n",
    "\n",
    "answer = answer_question(\n",
    "    question=QUESTION,\n",
    "    tokenizer=tokenizer,\n",
    "    model=model,\n",
    "    sampling=top_k_sampling,\n",
    "    pad_id=tokenizer.token_to_id(\"[PAD]\"),\n",
    "    eos_id=tokenizer.token_to_id(\"[EOS]\"),\n",
    "    bos_id=tokenizer.token_to_id(\"[BOS]\"),\n",
    ")\n",
    "print(f\"ANSWER: {answer}\")"
   ]
  },
  {
   "cell_type": "code",
   "execution_count": 80,
   "id": "d4e766a7",
   "metadata": {},
   "outputs": [],
   "source": [
    "samplings = {\n",
    "    \"argmax\" : argmax,\n",
    "    \"temerature\": sampling_with_temperature,\n",
    "    \"top-k\": top_k_sampling\n",
    "}"
   ]
  },
  {
   "cell_type": "code",
   "execution_count": 81,
   "id": "2e852f34",
   "metadata": {},
   "outputs": [
    {
     "name": "stdout",
     "output_type": "stream",
     "text": [
      "QUESTION: пить в новогоднюю ночь чего будем?\n",
      "ANSWER (argmax): а что ? ? и не только .\n",
      "ANSWER (temerature): а что с ? и шампанское .\n",
      "ANSWER (top-k): я уже уже на я буду буду за ! и буду буду ! - ! не пойду - как все с - ) ) прива -\n"
     ]
    }
   ],
   "source": [
    "# Comparison of all methods\n",
    "QUESTION = \"пить в новогоднюю ночь чего будем?\"\n",
    "\n",
    "print(f\"QUESTION: {QUESTION}\")\n",
    "for sampling_name, sampling_function in samplings.items():\n",
    "    answer = answer_question(\n",
    "        question=QUESTION,\n",
    "        tokenizer=tokenizer,\n",
    "        model=model,\n",
    "        sampling=sampling_function,\n",
    "        pad_id=tokenizer.token_to_id(\"[PAD]\"),\n",
    "        eos_id=tokenizer.token_to_id(\"[EOS]\"),\n",
    "        bos_id=tokenizer.token_to_id(\"[BOS]\"),\n",
    "    )\n",
    "    print(f\"ANSWER ({sampling_name}): {answer}\")"
   ]
  },
  {
   "cell_type": "code",
   "execution_count": 36,
   "id": "dbc3e72a",
   "metadata": {},
   "outputs": [
    {
     "name": "stdout",
     "output_type": "stream",
     "text": [
      "['какие', 'желания', 'женщин', 'не', 'нужно', 'исполнять', '?)'] ['я', 'думаю', '--', 'бредо', 'вые', 'идеи', '.']\n"
     ]
    }
   ],
   "source": [
    "# test data\n",
    "i = 55\n",
    "\n",
    "example, answer = test[i].src, test[i].tgt\n",
    "print(example, answer)"
   ]
  },
  {
   "cell_type": "markdown",
   "id": "80517c22",
   "metadata": {},
   "source": [
    "# Chat Bot"
   ]
  },
  {
   "cell_type": "code",
   "execution_count": 82,
   "id": "2221c80b",
   "metadata": {},
   "outputs": [],
   "source": [
    "BOT_TOKEN = \"5077708318:AAEIwGbzxwye2t8XzIgjkl0sRs0dvtQL_EI\""
   ]
  },
  {
   "cell_type": "code",
   "execution_count": 83,
   "id": "4fec7c70",
   "metadata": {},
   "outputs": [],
   "source": [
    "import telebot;\n",
    "bot = telebot.TeleBot(BOT_TOKEN);"
   ]
  },
  {
   "cell_type": "code",
   "execution_count": 84,
   "id": "7efcf2fb",
   "metadata": {},
   "outputs": [],
   "source": [
    "@bot.message_handler(content_types=['text'])\n",
    "def get_text_messages(message):\n",
    "    if message.text == \"Привет\":\n",
    "        bot.send_message(message.from_user.id, \"Привет, задай мне любой вопрос\")\n",
    "    elif message.text == \"/help\":\n",
    "        bot.send_message(message.from_user.id, \"Напиши привет\")\n",
    "    else:\n",
    "        question = message.text\n",
    "        answer = answer_question(\n",
    "            question=question,\n",
    "            tokenizer=tokenizer,\n",
    "            model=model,\n",
    "            sampling=sampling_with_temperature,\n",
    "            pad_id=tokenizer.token_to_id(\"[PAD]\"),\n",
    "            eos_id=tokenizer.token_to_id(\"[EOS]\"),\n",
    "            bos_id=tokenizer.token_to_id(\"[BOS]\"),\n",
    "        )\n",
    "        \n",
    "        bot.send_message(message.from_user.id, answer)"
   ]
  },
  {
   "cell_type": "code",
   "execution_count": null,
   "id": "b73c326a",
   "metadata": {},
   "outputs": [],
   "source": [
    "bot.polling(none_stop=True, interval=0)"
   ]
  },
  {
   "cell_type": "code",
   "execution_count": null,
   "id": "a731a154",
   "metadata": {},
   "outputs": [],
   "source": []
  }
 ],
 "metadata": {
  "kernelspec": {
   "display_name": "Python 3",
   "language": "python",
   "name": "python3"
  },
  "language_info": {
   "codemirror_mode": {
    "name": "ipython",
    "version": 3
   },
   "file_extension": ".py",
   "mimetype": "text/x-python",
   "name": "python",
   "nbconvert_exporter": "python",
   "pygments_lexer": "ipython3",
   "version": "3.8.5"
  }
 },
 "nbformat": 4,
 "nbformat_minor": 5
}
